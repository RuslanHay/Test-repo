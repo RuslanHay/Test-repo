{
 "cells": [
  {
   "cell_type": "code",
   "execution_count": 3,
   "id": "48a122fd",
   "metadata": {},
   "outputs": [
    {
     "name": "stdout",
     "output_type": "stream",
     "text": [
      "3\n",
      "(3,)\n"
     ]
    }
   ],
   "source": [
    "import numpy as np\n",
    "\n",
    "test_list = [1, 2, 3]\n",
    "array = np.array(test_list)\n",
    "\n",
    "print(len(array))\n",
    "print(array.shape)"
   ]
  },
  {
   "cell_type": "code",
   "execution_count": 9,
   "id": "3ee8ba31",
   "metadata": {},
   "outputs": [
    {
     "name": "stdout",
     "output_type": "stream",
     "text": [
      "[21 32 43 54]\n",
      "[ 40  60  80 100]\n",
      "400\n",
      "400\n",
      "5.477225575051661\n",
      "[0 1 2 3 4]\n",
      "[ 1.          1.47368421  1.94736842  2.42105263  2.89473684  3.36842105\n",
      "  3.84210526  4.31578947  4.78947368  5.26315789  5.73684211  6.21052632\n",
      "  6.68421053  7.15789474  7.63157895  8.10526316  8.57894737  9.05263158\n",
      "  9.52631579 10.        ]\n"
     ]
    }
   ],
   "source": [
    "#работа с векторами\n",
    "a = np.array([20, 30, 40, 50])\n",
    "b = np.array([1, 2, 3, 4])\n",
    "\n",
    "print(a + b)\n",
    "print(a * 2)\n",
    "print(a @ b) #скалярное произведение\n",
    "print(a.dot(b)) #тоже скалярное произведение\n",
    "np.linalg.norm(a) #длинна вектора\n",
    "print(np.linalg.norm(b))\n",
    "\n",
    "print(np.arange(5)) #аналог range при цикле for\n",
    "\n",
    "print(np.linspace(1, 10, 20)) #с 1 до 10 в количестве 20 чисел"
   ]
  },
  {
   "cell_type": "code",
   "execution_count": 11,
   "id": "7002c9c1",
   "metadata": {},
   "outputs": [
    {
     "name": "stdout",
     "output_type": "stream",
     "text": [
      "[[1 2 3]\n",
      " [4 5 6]]\n",
      "(2, 3)\n"
     ]
    }
   ],
   "source": [
    "#матрицы\n",
    "\n",
    "matrix = [\n",
    "    [1, 2, 3],\n",
    "    [4, 5, 6]\n",
    "]\n",
    "np_matrix = np.array(matrix)\n",
    "\n",
    "print(np_matrix)\n",
    "print(np_matrix.shape)"
   ]
  },
  {
   "cell_type": "code",
   "execution_count": 21,
   "id": "bb2bf895",
   "metadata": {},
   "outputs": [
    {
     "name": "stdout",
     "output_type": "stream",
     "text": [
      "Сумма\n",
      "[[ 4  6]\n",
      " [10 12]]\n",
      "Умножение на 2\n",
      "[[ 2  4]\n",
      " [ 8 10]]\n",
      "Умножение матриц\n",
      "[[15 18]\n",
      " [42 51]]\n",
      "[[15 18]\n",
      " [42 51]]\n",
      "Поэлементное умножение\n",
      "[[ 3  8]\n",
      " [24 35]]\n",
      "Транспонирование\n",
      "[[1 4]\n",
      " [2 5]]\n"
     ]
    }
   ],
   "source": [
    "a_matrix = [[1, 2], \n",
    "        [4, 5]]\n",
    "b_matrix = [[3, 4], \n",
    "        [6, 7]]\n",
    "np_a = np.array(a_matrix)\n",
    "np_b = np.array(b_matrix)\n",
    "\n",
    "print('Сумма')\n",
    "print(np_a + np_b)\n",
    "print('Умножение на 2')\n",
    "print(np_a * 2)\n",
    "print('Умножение матриц')\n",
    "print(np_a @ np_b) #умножение матриц\n",
    "print(np_a.dot(np_b)) #тоже умножение матриц\n",
    "print('Поэлементное умножение')\n",
    "print(np_a * np_b)\n",
    "print('Транспонирование')\n",
    "print(np_a.T)"
   ]
  },
  {
   "cell_type": "code",
   "execution_count": 26,
   "id": "39155a30",
   "metadata": {},
   "outputs": [
    {
     "name": "stdout",
     "output_type": "stream",
     "text": [
      "[[0. 0. 0.]\n",
      " [0. 0. 0.]\n",
      " [0. 0. 0.]]\n",
      "[[1. 1. 1.]\n",
      " [1. 1. 1.]\n",
      " [1. 1. 1.]]\n",
      "[[1. 0. 0.]\n",
      " [0. 1. 0.]\n",
      " [0. 0. 1.]]\n"
     ]
    }
   ],
   "source": [
    "#Матрица из нулей\n",
    "\n",
    "np_ar = np.zeros((3, 3)) #в качестве аргумента используем кортеж\n",
    "print(np_ar)\n",
    "\n",
    "np_ar = np.ones((3, 3))\n",
    "print(np_ar)\n",
    "\n",
    "np_ar = np.eye((3))\n",
    "print(np_ar)"
   ]
  },
  {
   "cell_type": "code",
   "execution_count": 33,
   "id": "05bdb499",
   "metadata": {},
   "outputs": [
    {
     "name": "stdout",
     "output_type": "stream",
     "text": [
      "[[0 1]\n",
      " [0 5]]\n",
      "\n",
      "6\n",
      "\n",
      "[0 6]\n",
      "\n",
      "[1 5]\n",
      "\n",
      "0\n",
      "\n",
      "5\n"
     ]
    }
   ],
   "source": [
    "a = np.array([[0, 1], [0, 5]])\n",
    "print(a)\n",
    "print()\n",
    "print(a.sum()) #сумма по всему массиву\n",
    "print()\n",
    "print(a.sum(axis = 0)) #сумма по столбцам\n",
    "print()\n",
    "print(a.sum(axis = 1)) #сумма по строкам\n",
    "print()\n",
    "print(a.min()) #минимум по всему массиву\n",
    "print()\n",
    "print(a.max()) #максимум по всему массиву\n"
   ]
  },
  {
   "cell_type": "code",
   "execution_count": 46,
   "id": "32b69913",
   "metadata": {},
   "outputs": [
    {
     "name": "stdout",
     "output_type": "stream",
     "text": [
      "нулевая строка\n",
      " [1 2 3]\n",
      "нулевая колонка\n",
      " [1 4]\n",
      "колонки с 0 по 1 (2 не вкл.)\n",
      " [[1 2]\n",
      " [4 5]]\n",
      "нулевая строка в обратном порядке\n",
      " [3 2 1]\n",
      "элементы 0 строки через одного\n",
      " [1 3]\n",
      "элементы через одного в другом порядке\n",
      " [2]\n"
     ]
    }
   ],
   "source": [
    "matrix = [\n",
    "    [1, 2, 3],\n",
    "    [4, 5, 6]\n",
    "]\n",
    "a = np.array(matrix)\n",
    "\n",
    "print(f'нулевая строка\\n {a[0]}')\n",
    "print(f'нулевая колонка\\n {a[:, 0]}')\n",
    "print(f'колонки с 0 по 1 (2 не вкл.)\\n {a[:, 0:2]}')\n",
    "print(f'нулевая строка в обратном порядке\\n {a[0, ::-1]}')\n",
    "print(f'элементы 0 строки через одного\\n {a[0, ::2]}')\n",
    "print(f'элементы через одного в другом порядке\\n {a[0, 1::2]}')\n",
    "\n",
    "\n"
   ]
  },
  {
   "cell_type": "code",
   "execution_count": 54,
   "id": "d0520ae4",
   "metadata": {},
   "outputs": [
    {
     "name": "stdout",
     "output_type": "stream",
     "text": [
      "[0 1 2]\n",
      "[0 2]\n",
      "[1 2 3]\n",
      "[  0.   1.   2.   3.   4.   5.   6.   7.   8.   9.  10.  11.  12.  13.\n",
      "  14.  15.  16.  17.  18.  19.  20.  21.  22.  23.  24.  25.  26.  27.\n",
      "  28.  29.  30.  31.  32.  33.  34.  35.  36.  37.  38.  39.  40.  41.\n",
      "  42.  43.  44.  45.  46.  47.  48.  49.  50.  51.  52.  53.  54.  55.\n",
      "  56.  57.  58.  59.  60.  61.  62.  63.  64.  65.  66.  67.  68.  69.\n",
      "  70.  71.  72.  73.  74.  75.  76.  77.  78.  79.  80.  81.  82.  83.\n",
      "  84.  85.  86.  87.  88.  89.  90.  91.  92.  93.  94.  95.  96.  97.\n",
      "  98.  99. 100.]\n",
      "[]\n"
     ]
    }
   ],
   "source": [
    "b = np.arange(4)\n",
    "\n",
    "c = b[b < 3]\n",
    "print(c)\n",
    "\n",
    "c = b[\n",
    "    (b < 10) & (b % 2 == 0)\n",
    "]\n",
    "print(c)\n",
    "\n",
    "c = b[\n",
    "    (b > 0) | (b == -10)\n",
    "]\n",
    "print(c)\n",
    "\n",
    "a = np.linspace(0, 100, 101)\n",
    "print(a)\n",
    "\n",
    "c = b[\n",
    "    ~np.isin(b, a)  #находим элементы \"b\", которых нет в \"а\", ~ - это знак \"не\"\n",
    "]\n",
    "print(c)"
   ]
  }
 ],
 "metadata": {
  "kernelspec": {
   "display_name": "Python 3 (ipykernel)",
   "language": "python",
   "name": "python3"
  },
  "language_info": {
   "codemirror_mode": {
    "name": "ipython",
    "version": 3
   },
   "file_extension": ".py",
   "mimetype": "text/x-python",
   "name": "python",
   "nbconvert_exporter": "python",
   "pygments_lexer": "ipython3",
   "version": "3.9.16"
  }
 },
 "nbformat": 4,
 "nbformat_minor": 5
}
