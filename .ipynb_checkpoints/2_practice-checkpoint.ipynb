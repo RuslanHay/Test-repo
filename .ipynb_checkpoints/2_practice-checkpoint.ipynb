{
 "cells": [
  {
   "cell_type": "code",
   "execution_count": 1,
   "id": "81bc30ba",
   "metadata": {},
   "outputs": [
    {
     "name": "stdout",
     "output_type": "stream",
     "text": [
      "1\n",
      "2\n",
      "3\n",
      "4\n",
      "5\n"
     ]
    }
   ],
   "source": [
    "#Циклы for и while\n",
    "for i in range(1, 6):\n",
    "    print(i)\n"
   ]
  },
  {
   "cell_type": "code",
   "execution_count": 3,
   "id": "120b5724",
   "metadata": {},
   "outputs": [
    {
     "name": "stdout",
     "output_type": "stream",
     "text": [
      "Enter two numbers\n",
      "2\n",
      "4\n",
      "9\n"
     ]
    }
   ],
   "source": [
    "a = int(input('Enter two numbers\\n'))\n",
    "b = int(input())\n",
    "\n",
    "s = 0\n",
    "for i in range(a, b + 1):\n",
    "    s += i\n",
    "print(s)"
   ]
  },
  {
   "cell_type": "code",
   "execution_count": 4,
   "id": "b899704d",
   "metadata": {},
   "outputs": [
    {
     "name": "stdout",
     "output_type": "stream",
     "text": [
      "Enter two numbers\n",
      "100\n",
      "500\n",
      "120300.0\n"
     ]
    }
   ],
   "source": [
    "a = int(input('Enter two numbers\\n'))\n",
    "b = int(input())\n",
    "\n",
    "n = b - a + 1\n",
    "s = (a + b) * n / 2\n",
    "print(s)"
   ]
  },
  {
   "cell_type": "code",
   "execution_count": 8,
   "id": "6e6029af",
   "metadata": {},
   "outputs": [
    {
     "name": "stdout",
     "output_type": "stream",
     "text": [
      "1\n",
      "2\n",
      "3\n",
      "4\n",
      "5\n",
      "6\n",
      "7\n",
      "8\n",
      "9\n",
      "10\n"
     ]
    }
   ],
   "source": [
    "i = 0\n",
    "while i < 10:\n",
    "    i += 1\n",
    "    print(i)"
   ]
  },
  {
   "cell_type": "code",
   "execution_count": 7,
   "id": "347553e5",
   "metadata": {},
   "outputs": [
    {
     "name": "stdout",
     "output_type": "stream",
     "text": [
      "Enter the number4\n",
      "The number is 2 in degree\n"
     ]
    }
   ],
   "source": [
    "n = int(input('Enter the number'))\n",
    "\n",
    "while n % 2 == 0:\n",
    "    n /= 2\n",
    "\n",
    "if n == 1:\n",
    "    print('The number is 2 in degree')\n",
    "else:\n",
    "    print('The number is not 2 in degree')"
   ]
  },
  {
   "cell_type": "code",
   "execution_count": 9,
   "id": "bc3b8372",
   "metadata": {},
   "outputs": [
    {
     "name": "stdout",
     "output_type": "stream",
     "text": [
      "1\n",
      "2\n",
      "3\n",
      "4\n",
      "6\n",
      "7\n",
      "8\n",
      "9\n",
      "10\n"
     ]
    }
   ],
   "source": [
    "for i in range(1, 11):\n",
    "    if i != 5:\n",
    "        print(i)"
   ]
  },
  {
   "cell_type": "code",
   "execution_count": 11,
   "id": "b8fde518",
   "metadata": {},
   "outputs": [
    {
     "name": "stdout",
     "output_type": "stream",
     "text": [
      "1\n",
      "2\n",
      "3\n",
      "4\n",
      "6\n",
      "7\n",
      "8\n",
      "9\n",
      "10\n"
     ]
    }
   ],
   "source": [
    "for i in range(1, 11):\n",
    "    if i == 5:\n",
    "        continue\n",
    "    print(i)"
   ]
  },
  {
   "cell_type": "code",
   "execution_count": 3,
   "id": "39e4e022-b11c-4d8f-97b2-658f52548d1f",
   "metadata": {},
   "outputs": [
    {
     "name": "stdin",
     "output_type": "stream",
     "text": [
      "Введите команду добавить\n",
      "Введите название и количество ПК 2\n",
      "Введите команду показать\n"
     ]
    },
    {
     "name": "stdout",
     "output_type": "stream",
     "text": [
      "ПК 2.0\n"
     ]
    },
    {
     "name": "stdin",
     "output_type": "stream",
     "text": [
      "Введите команду добавить\n",
      "Введите название и количество Смартфон 4\n",
      "Введите команду добавить\n",
      "Введите название и количество чайник 2\n",
      "Введите команду добавить\n",
      "Введите название и количество ноутбук 1\n",
      "Введите команду показать\n"
     ]
    },
    {
     "name": "stdout",
     "output_type": "stream",
     "text": [
      "ПК 2.0\n",
      "Смартфон 4.0\n",
      "ноутбук 1.0\n",
      "чайник 2.0\n"
     ]
    },
    {
     "name": "stdin",
     "output_type": "stream",
     "text": [
      "Введите команду лвр\n"
     ]
    },
    {
     "name": "stdout",
     "output_type": "stream",
     "text": [
      "Я вас не понял, введите одну из команд: [добавить, удалить, показать, выход]\n"
     ]
    },
    {
     "name": "stdin",
     "output_type": "stream",
     "text": [
      "Введите команду удалить\n",
      "Введите название позиции, которую хотите удалить чайник\n",
      "Введите команду показать\n"
     ]
    },
    {
     "name": "stdout",
     "output_type": "stream",
     "text": [
      "ПК 2.0\n",
      "Смартфон 4.0\n",
      "ноутбук 1.0\n"
     ]
    },
    {
     "name": "stdin",
     "output_type": "stream",
     "text": [
      "Введите команду выход\n"
     ]
    }
   ],
   "source": [
    "command = None\n",
    "shopping_list = {}\n",
    "\n",
    "while True:\n",
    "    command = input('Введите команду')\n",
    "    if command == 'добавить':\n",
    "        position = input('Введите название и количество')\n",
    "        name, number = position.split()\n",
    "        number = float(number)\n",
    "        if name in shopping_list:\n",
    "            shopping_list[name] += number\n",
    "        else:\n",
    "            shopping_list[name] = number\n",
    "    elif command == 'удалить':\n",
    "        position = input('Введите название позиции, которую хотите удалить')\n",
    "        shopping_list.pop(position, None)\n",
    "    elif command == 'показать':\n",
    "        keys = sorted(shopping_list.keys())\n",
    "        for key in keys:\n",
    "            print(key, shopping_list[key])\n",
    "    elif command == 'выход':\n",
    "        break\n",
    "    else:\n",
    "        print('Я вас не понял, введите одну из команд: [добавить, удалить, показать, выход]')"
   ]
  }
 ],
 "metadata": {
  "kernelspec": {
   "display_name": "Python 3 (ipykernel)",
   "language": "python",
   "name": "python3"
  },
  "language_info": {
   "codemirror_mode": {
    "name": "ipython",
    "version": 3
   },
   "file_extension": ".py",
   "mimetype": "text/x-python",
   "name": "python",
   "nbconvert_exporter": "python",
   "pygments_lexer": "ipython3",
   "version": "3.9.13"
  }
 },
 "nbformat": 4,
 "nbformat_minor": 5
}
