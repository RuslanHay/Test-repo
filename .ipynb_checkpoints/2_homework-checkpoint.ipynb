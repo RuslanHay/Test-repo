{
 "cells": [
  {
   "cell_type": "code",
   "execution_count": 6,
   "id": "47458fa8",
   "metadata": {},
   "outputs": [
    {
     "name": "stdout",
     "output_type": "stream",
     "text": [
      "Введите сумму вклада100\n",
      "Введите процентную ставку2.5\n",
      "Введите конечную сумму вклада150\n",
      "0\n",
      "1\n",
      "2\n",
      "3\n",
      "4\n",
      "5\n",
      "6\n",
      "7\n",
      "8\n",
      "9\n",
      "10\n",
      "11\n",
      "12\n",
      "13\n",
      "14\n",
      "15\n",
      "16\n",
      "17\n",
      "Конечная сумма наберется через , 17, лет\n"
     ]
    }
   ],
   "source": [
    "\n",
    "\n",
    "x = float(input('Введите сумму вклада '))\n",
    "p = float(input('Введите процентную ставку '))\n",
    "y = float(input('Введите конечную сумму вклада '))\n",
    "\n",
    "i = 0\n",
    "print(i)\n",
    "while x <= y:\n",
    "    i += 1\n",
    "    x = x + x * 0.01 * p\n",
    "print(f'Конечная сумма наберется через {i} лет')"
   ]
  },
  {
   "cell_type": "code",
   "execution_count": 3,
   "id": "ed107f03",
   "metadata": {},
   "outputs": [
    {
     "name": "stdout",
     "output_type": "stream",
     "text": [
      "Введите число повторений цикла \"for\"10\n",
      "for - частный случай цикла while n раз\n",
      "for - частный случай цикла while n раз\n",
      "for - частный случай цикла while n раз\n",
      "for - частный случай цикла while n раз\n",
      "for - частный случай цикла while n раз\n",
      "for - частный случай цикла while n раз\n",
      "for - частный случай цикла while n раз\n",
      "for - частный случай цикла while n раз\n",
      "for - частный случай цикла while n раз\n",
      "for - частный случай цикла while n раз\n"
     ]
    }
   ],
   "source": [
    "#Уровень 2\n",
    "n = int(input('Введите число повторений цикла \"for\" '))\n",
    "\n",
    "i = 0\n",
    "while i != n:\n",
    "    #print(i)\n",
    "    i += 1\n",
    "    print('for - частный случай цикла while n раз')"
   ]
  },
  {
   "cell_type": "code",
   "execution_count": 26,
   "id": "1620a848",
   "metadata": {},
   "outputs": [
    {
     "name": "stdout",
     "output_type": "stream",
     "text": [
      "Введите целое число 46\n",
      "4\n",
      "10\n",
      "Сумма цифр числа 10\n"
     ]
    }
   ],
   "source": [
    "#Уровень 3\n",
    "a = input('Введите целое число ')\n",
    "\n",
    "l = list(a)\n",
    "s = 0\n",
    "for i in range(len(a)):\n",
    "    s += int(l[i])\n",
    "    print(s)\n",
    "    \n",
    "print(f'Сумма цифр числа {s}')"
   ]
  },
  {
   "cell_type": "code",
   "execution_count": 30,
   "id": "2b2c6c03",
   "metadata": {},
   "outputs": [
    {
     "name": "stdout",
     "output_type": "stream",
     "text": [
      "[1, 6, 'hello', 'b']\n"
     ]
    }
   ],
   "source": [
    "#Модуль 3\n",
    "#Часть 2\n",
    "#Уровень 1\n",
    "\n",
    "l = [1, 4, 1, 6, \"hello\", \"b\", \"a\", 5, \"hello\", \"hi\", \"b\", 6]\n",
    "res_list = []\n",
    "for i in range(len(l)-1):\n",
    "    for n in range(i, len(l)-1):\n",
    "        if l[i] == l[n+1]:\n",
    "            res_list.append(l[i])\n",
    "print(res_list)"
   ]
  },
  {
   "cell_type": "code",
   "execution_count": 43,
   "id": "c4a955b3",
   "metadata": {},
   "outputs": [
    {
     "name": "stdout",
     "output_type": "stream",
     "text": [
      "[2, 1, 88, 74, 63]\n",
      "[42, 25, 58, 37, 1]\n",
      "[99, 89, 33, 45, 95]\n",
      "[50, 0, 51, 27, 27]\n",
      "[99, 50, 2, 35, 58]\n",
      "99\n"
     ]
    }
   ],
   "source": [
    "#Уровень 2\n",
    "from random import randint\n",
    "\n",
    "n = 5\n",
    "m = [[randint(0, 100) for i in range(n)] for j in range(n)]\n",
    "\n",
    "\n",
    "#print(m)\n",
    "for i in range(n):\n",
    "    l = []\n",
    "    for j in range(n):\n",
    "        l.append(m[i][j])\n",
    "    print(l)\n",
    "        \n",
    "a = m[0][0]\n",
    "\n",
    "for i in range(n):\n",
    "    for j in range(n):\n",
    "        if a < m[i][j]:\n",
    "            a = m[i][j]\n",
    "print(a)"
   ]
  },
  {
   "cell_type": "code",
   "execution_count": 53,
   "id": "cabe07ed",
   "metadata": {},
   "outputs": [
    {
     "name": "stdout",
     "output_type": "stream",
     "text": [
      "{'id': 'name', 'id2': 'name2', 'id3': 'name3'}\n"
     ]
    }
   ],
   "source": [
    "#Уровень 3\n",
    "d = {'name': 'id', 'name2': 'id2', 'name3': 'id3'}\n",
    "n, i = [], []\n",
    "\n",
    "for name, name_id in d.items():\n",
    "    n.append(name)\n",
    "    i.append(name_id)\n",
    "\n",
    "changed_dic = {}\n",
    "for j in range(len(n)):\n",
    "    changed_dic[i[j]] = n[j]\n",
    "print(changed_dic)"
   ]
  },
  {
   "cell_type": "code",
   "execution_count": 56,
   "id": "cecfcb39",
   "metadata": {},
   "outputs": [
    {
     "name": "stdout",
     "output_type": "stream",
     "text": [
      "6.0\n"
     ]
    }
   ],
   "source": [
    "#Модуль 3\n",
    "#Часть 3\n",
    "#Уровень 1\n",
    "def area(a, b, c):\n",
    "    p = (a + b + c) / 2\n",
    "    a = (p * (p - a) * (p - b) * (p - c))**0.5\n",
    "    return a\n",
    "\n",
    "a = 3\n",
    "b = 4\n",
    "c = 5\n",
    "S = area(a, b, c)\n",
    "print(S)"
   ]
  },
  {
   "cell_type": "code",
   "execution_count": 73,
   "id": "f385ed03",
   "metadata": {},
   "outputs": [
    {
     "name": "stdout",
     "output_type": "stream",
     "text": [
      "Было дуло с А к сто Так ноль То ли весь мир с ума то ли я того На от нее с в окно жжет на нас Если как жить живи Ты как все так \n"
     ]
    }
   ],
   "source": [
    "#Уровень 2\n",
    "s = '''Было просто пасмурно, дуло с севера\n",
    "А к обеду насчитал сто градаций серого.\n",
    "Так всегда первого ноль девятого\n",
    "То ли весь мир сошел с ума, то ли я - того...\n",
    "На столе записка от нее смятая\n",
    "Недопитый виски допиваю с матами.\n",
    "Посмотрю в окно, допишу главу\n",
    "Первое сентября, дворник жжет листву.\n",
    "Серым облакам наплевать на нас\n",
    "Если знаешь как жить - живи\n",
    "Ты хотела плыть как все - так плыви!'''\n",
    "def str_text(text):\n",
    "    s_without = s.replace(',', '')\n",
    "    s_without = s_without.replace('-', '')\n",
    "    s_without = s_without.replace('!', '')\n",
    "    s_without = s_without.replace('.', '')\n",
    "    #print(s_without)\n",
    "    ch = ''\n",
    "    list_words = s_without.split()\n",
    "    for i in range(len(list_words)):\n",
    "        if len(list_words[i]) < 5:\n",
    "            ch += list_words[i] + ' '\n",
    "    return ch\n",
    "print(str_text(s))"
   ]
  },
  {
   "cell_type": "code",
   "execution_count": 35,
   "id": "8fea580b",
   "metadata": {},
   "outputs": [
    {
     "name": "stdout",
     "output_type": "stream",
     "text": [
      "[79, 57, 98]\n",
      "987957\n"
     ]
    }
   ],
   "source": [
    "#Уровень 3\n",
    "\n",
    "from random import randint\n",
    "a = 3\n",
    "m = [randint(0, 99) for i in range(a)]\n",
    "\n",
    "print(m)\n",
    "\n",
    "def maximum_number(x, y):\n",
    "    m.sort(reverse = True)\n",
    "    n = []\n",
    "    for i in range(len(m)):\n",
    "        k = m[i]\n",
    "        while k // 10 != 0:\n",
    "            k = m[i] // 10\n",
    "            n.append(k) \n",
    "    n.sort(reverse = True)\n",
    "    max_num = ''\n",
    "    for i in range(len(m)):\n",
    "        max_num += str(m[i])\n",
    "    print(max_num)\n",
    "    return\n",
    "maximum_number(a, m)"
   ]
  },
  {
   "cell_type": "code",
   "execution_count": 22,
   "id": "3baba475",
   "metadata": {},
   "outputs": [
    {
     "name": "stdout",
     "output_type": "stream",
     "text": [
      "Enter login fes\n",
      "Enter password 3398\n"
     ]
    }
   ],
   "source": [
    "#Модуль 3\n",
    "#Часть 4\n",
    "#Уровень 1, 2\n",
    "def register(login, passwd):\n",
    "    \n",
    "    login = input('Enter login ')\n",
    "    passwd = input('Enter password ')\n",
    "    \n",
    "    import json\n",
    "    with open('register_data.json', 'r') as f:\n",
    "        data = json.load(f)\n",
    "    if login not in data.keys():\n",
    "        data[login] = passwd\n",
    "        with open('register_data.json', 'w') as f:\n",
    "            json.dump(data, f)\n",
    "    else:\n",
    "            print('Login exists, try another')\n",
    "            \n",
    "    return\n",
    "\n",
    "\n",
    "register(login, passwd)\n"
   ]
  },
  {
   "cell_type": "code",
   "execution_count": 21,
   "id": "2cc6f739",
   "metadata": {},
   "outputs": [
    {
     "name": "stdout",
     "output_type": "stream",
     "text": [
      "Enter login rus\n",
      "Enter password 465\n",
      "Password is not correct\n"
     ]
    }
   ],
   "source": [
    "#Уровень 3\n",
    "\n",
    "def login_function(login, passwd):\n",
    "    \n",
    "    login = input('Enter login ')\n",
    "            \n",
    "    import json\n",
    "    with open('register_data.json', 'r') as f:\n",
    "        data = json.load(f)\n",
    "    if login in data.keys():\n",
    "        passwd = input('Enter password ')\n",
    "        if passwd == data[login]:\n",
    "            print('Access is allowed')\n",
    "        else: print('Password is not correct')\n",
    "    else: print('Login is not exists')\n",
    "    return\n",
    "\n",
    "login_function(login, passwd)"
   ]
  }
 ],
 "metadata": {
  "kernelspec": {
   "display_name": "Python 3 (ipykernel)",
   "language": "python",
   "name": "python3"
  },
  "language_info": {
   "codemirror_mode": {
    "name": "ipython",
    "version": 3
   },
   "file_extension": ".py",
   "mimetype": "text/x-python",
   "name": "python",
   "nbconvert_exporter": "python",
   "pygments_lexer": "ipython3",
   "version": "3.9.16"
  }
 },
 "nbformat": 4,
 "nbformat_minor": 5
}
