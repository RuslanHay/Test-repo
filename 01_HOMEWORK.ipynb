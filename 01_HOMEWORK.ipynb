{
 "cells": [
  {
   "cell_type": "code",
   "execution_count": 1,
   "id": "62c4f1c9-75d6-4e98-b935-6f7412c2a3c2",
   "metadata": {},
   "outputs": [
    {
     "name": "stdout",
     "output_type": "stream",
     "text": [
      "0.038580246913580245\n"
     ]
    }
   ],
   "source": [
    "# ПРАКТИЧЕСКОЕ ЗАДАНИЕ. МОДУЛЬ 1. ЧАСТЬ 1.\n",
    "# Уровень 1\n",
    "\n",
    "value = 5 + 7 * 5 / 8\n",
    "value = value / (3 ** 5)\n",
    "print(value)"
   ]
  },
  {
   "cell_type": "code",
   "execution_count": 8,
   "id": "e0c7da9c-c769-49e8-ae83-b2a158664d37",
   "metadata": {},
   "outputs": [
    {
     "name": "stdin",
     "output_type": "stream",
     "text": [
      "Enter speed of motorbike, km/h  40\n",
      "Enter time spent for ride, hours 3\n"
     ]
    },
    {
     "name": "stdout",
     "output_type": "stream",
     "text": [
      "Result is 11 kilometers\n"
     ]
    }
   ],
   "source": [
    "# Уровень 2\n",
    "v = int(input('Enter speed of motorbike, km/h '))\n",
    "t = int(input('Enter time spent for ride, hours'))\n",
    "s = v * t\n",
    "stop_point = s % 109\n",
    "print(f'Result is {stop_point} kilometers')\n",
    "#print(f'That means Vasya rode {rounds} rounds')"
   ]
  },
  {
   "cell_type": "code",
   "execution_count": 11,
   "id": "dec978c9-e973-4d52-b7e2-4b1c66ab0454",
   "metadata": {},
   "outputs": [
    {
     "name": "stdin",
     "output_type": "stream",
     "text": [
      "Enter two numbers\n",
      " 5\n",
      " 5\n"
     ]
    },
    {
     "name": "stdout",
     "output_type": "stream",
     "text": [
      "0.0\n"
     ]
    }
   ],
   "source": [
    "# Уровень 3\n",
    "a = float(input('Enter two numbers\\n'))\n",
    "b = float(input())\n",
    "result = a * (a > b) + b * (a < b)\n",
    "print(result)"
   ]
  },
  {
   "cell_type": "code",
   "execution_count": 14,
   "id": "03ebfe74-de7a-4a1b-817d-2ef563857983",
   "metadata": {},
   "outputs": [
    {
     "name": "stdin",
     "output_type": "stream",
     "text": [
      "Enter any three integer numbers \n",
      " 4\n",
      " 9\n",
      " 3\n"
     ]
    },
    {
     "name": "stdout",
     "output_type": "stream",
     "text": [
      "0\n"
     ]
    }
   ],
   "source": [
    "# МОДУЛЬ 1. ЧАСТЬ 2.\n",
    "# Уровень 1\n",
    "a = int(input('Enter any three integer numbers \\n'))\n",
    "b = int(input())\n",
    "c = int(input())\n",
    "#print(a, b, c)\n",
    "\n",
    "if a == b and b == c:\n",
    "    print(3)\n",
    "elif a == b or b == c or a == c:\n",
    "    print(2)\n",
    "else:\n",
    "    print(0)"
   ]
  },
  {
   "cell_type": "code",
   "execution_count": 21,
   "id": "71b0a77f-6ec9-4373-89fe-2ac847edc569",
   "metadata": {},
   "outputs": [
    {
     "name": "stdin",
     "output_type": "stream",
     "text": [
      "Введите начальное положение\n",
      " 1\n",
      " 2\n",
      "Введите конечное положение\n",
      " 4\n",
      " 2\n"
     ]
    },
    {
     "name": "stdout",
     "output_type": "stream",
     "text": [
      "YES\n"
     ]
    }
   ],
   "source": [
    "# Уровень 2\n",
    "x0 = int(input('Введите начальное положение\\n'))\n",
    "y0 = int(input())\n",
    "x1 = int(input('Введите конечное положение\\n'))\n",
    "y1 = int(input())\n",
    "\n",
    "\n",
    "if x0 == x1 and y0 == y1:\n",
    "    print('NO')\n",
    "else: print('NO')"
   ]
  },
  {
   "cell_type": "code",
   "execution_count": 46,
   "id": "279f6973-bfba-429e-9d37-1e03eba48b3f",
   "metadata": {},
   "outputs": [
    {
     "name": "stdin",
     "output_type": "stream",
     "text": [
      "Enter password HFjjkhFH\n"
     ]
    },
    {
     "name": "stdout",
     "output_type": "stream",
     "text": [
      "DONE\n"
     ]
    }
   ],
   "source": [
    "# Уровень 3\n",
    "password = input('Enter password')\n",
    "check = False\n",
    "while check == False:\n",
    "    if len(password) >= 8 and not password.islower() and not password.isupper():\n",
    "        print('DONE')\n",
    "        check = True\n",
    "    else:\n",
    "        password = input('Enter password again')"
   ]
  },
  {
   "cell_type": "code",
   "execution_count": 50,
   "id": "b7df9e79-ade4-46c4-a55a-bfe8b96e1493",
   "metadata": {},
   "outputs": [
    {
     "name": "stdout",
     "output_type": "stream",
     "text": [
      "ПРивет\n"
     ]
    }
   ],
   "source": [
    "\n"
   ]
  }
 ],
 "metadata": {
  "kernelspec": {
   "display_name": "Python 3 (ipykernel)",
   "language": "python",
   "name": "python3"
  },
  "language_info": {
   "codemirror_mode": {
    "name": "ipython",
    "version": 3
   },
   "file_extension": ".py",
   "mimetype": "text/x-python",
   "name": "python",
   "nbconvert_exporter": "python",
   "pygments_lexer": "ipython3",
   "version": "3.9.13"
  }
 },
 "nbformat": 4,
 "nbformat_minor": 5
}
